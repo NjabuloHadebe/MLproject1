{
  "nbformat": 4,
  "nbformat_minor": 0,
  "metadata": {
    "colab": {
      "provenance": [],
      "authorship_tag": "ABX9TyMZ7wM77x7Vd5o6uiH8WlWy",
      "include_colab_link": true
    },
    "kernelspec": {
      "name": "python3",
      "display_name": "Python 3"
    },
    "language_info": {
      "name": "python"
    }
  },
  "cells": [
    {
      "cell_type": "markdown",
      "metadata": {
        "id": "view-in-github",
        "colab_type": "text"
      },
      "source": [
        "<a href=\"https://colab.research.google.com/github/NjabuloHadebe/MLproject1/blob/main/CompleteNounClassModel.ipynb\" target=\"_parent\"><img src=\"https://colab.research.google.com/assets/colab-badge.svg\" alt=\"Open In Colab\"/></a>"
      ]
    },
    {
      "cell_type": "code",
      "execution_count": null,
      "metadata": {
        "id": "G62z_5FFkQHx"
      },
      "outputs": [],
      "source": [
        "# Noun classes and their corresponding prefixes\n",
        "noun_classes = {\n",
        "    1: 'um(u)',\n",
        "    2: 'aba',\n",
        "    3: 'in',\n",
        "    4: 'izi',\n",
        "    5: 'ili',\n",
        "    6: 'ama',\n",
        "    7: 'isi',\n",
        "    8: 'izi',\n",
        "    9: 'ubu',\n",
        "    10: 'uku',\n",
        "    11: 'ulu',\n",
        "    12: 'isi',\n",
        "    13: 'i',\n",
        "    14: 'ubu',\n",
        "    15: 'uku',\n",
        "    16: 'pha'\n",
        "}\n",
        "\n",
        "# Function to check if a word belongs to any noun class\n",
        "def determine_noun_class(word):\n",
        "    for noun_class, prefix in noun_classes.items():\n",
        "        if word.startswith(prefix):\n",
        "            return noun_class\n",
        "    return None\n",
        "\n",
        "# Read the text file and tokenize the words\n",
        "with open('/content/data.txt', 'r', encoding='utf-8') as file:\n",
        "    text = file.read()\n",
        "    words = text.lower().split()\n",
        "\n",
        "# Annotate each word with its noun class\n",
        "annotated_words = []\n",
        "for word in words:\n",
        "    noun_class = determine_noun_class(word)\n",
        "    if noun_class is not None:\n",
        "        annotated_words.append((word, noun_class))\n",
        "\n",
        "# Print the annotated list of words\n",
        "for word, noun_class in annotated_words:\n",
        "    print(f\"Word: {word}, Noun Class: {noun_class}\")\n",
        "\n",
        "# Now, you can proceed with training your model using this annotated list of words and their noun classes.\n"
      ]
    },
    {
      "cell_type": "code",
      "source": [
        "#Logistic regression model.\n",
        "\n",
        "from sklearn.feature_extraction.text import CountVectorizer\n",
        "from sklearn.linear_model import LogisticRegression\n",
        "from sklearn.model_selection import train_test_split\n",
        "from sklearn.metrics import classification_report\n",
        "\n",
        "# Extract features (words) and labels (noun classes)\n",
        "X = [word[0] for word in annotated_words]\n",
        "y = [word[1] for word in annotated_words]\n",
        "\n",
        "# Split the data into training and testing sets\n",
        "X_train, X_test, y_train, y_test = train_test_split(X, y, test_size=0.2, random_state=42)\n",
        "\n",
        "# Vectorize the text data\n",
        "vectorizer = CountVectorizer()\n",
        "X_train_vectorized = vectorizer.fit_transform(X_train)\n",
        "X_test_vectorized = vectorizer.transform(X_test)\n",
        "\n",
        "# Initialize and train the logistic regression model\n",
        "classifier = LogisticRegression(max_iter=1000)\n",
        "classifier.fit(X_train_vectorized, y_train)\n",
        "\n",
        "# Evaluate the model\n",
        "y_pred = classifier.predict(X_test_vectorized)\n",
        "print(\"Classification Report:\")\n",
        "print(classification_report(y_test, y_pred))\n"
      ],
      "metadata": {
        "colab": {
          "base_uri": "https://localhost:8080/"
        },
        "id": "CY8ovHeQqbCo",
        "outputId": "58ea472c-3019-4a89-dcf8-3e0df3736d21"
      },
      "execution_count": null,
      "outputs": [
        {
          "output_type": "stream",
          "name": "stdout",
          "text": [
            "Classification Report:\n",
            "              precision    recall  f1-score   support\n",
            "\n",
            "           2       1.00      0.59      0.75       244\n",
            "           3       1.00      0.82      0.90       268\n",
            "           4       1.00      0.66      0.79       175\n",
            "           5       0.00      0.00      0.00         4\n",
            "           6       1.00      0.72      0.84       134\n",
            "           7       1.00      0.58      0.74       146\n",
            "           9       1.00      0.43      0.60        56\n",
            "          10       1.00      0.79      0.88       546\n",
            "          11       0.00      0.00      0.00         3\n",
            "          13       0.57      1.00      0.72       607\n",
            "          16       1.00      0.98      0.99        82\n",
            "\n",
            "    accuracy                           0.80      2265\n",
            "   macro avg       0.78      0.60      0.66      2265\n",
            "weighted avg       0.88      0.80      0.80      2265\n",
            "\n"
          ]
        },
        {
          "output_type": "stream",
          "name": "stderr",
          "text": [
            "/usr/local/lib/python3.10/dist-packages/sklearn/metrics/_classification.py:1344: UndefinedMetricWarning: Precision and F-score are ill-defined and being set to 0.0 in labels with no predicted samples. Use `zero_division` parameter to control this behavior.\n",
            "  _warn_prf(average, modifier, msg_start, len(result))\n",
            "/usr/local/lib/python3.10/dist-packages/sklearn/metrics/_classification.py:1344: UndefinedMetricWarning: Precision and F-score are ill-defined and being set to 0.0 in labels with no predicted samples. Use `zero_division` parameter to control this behavior.\n",
            "  _warn_prf(average, modifier, msg_start, len(result))\n",
            "/usr/local/lib/python3.10/dist-packages/sklearn/metrics/_classification.py:1344: UndefinedMetricWarning: Precision and F-score are ill-defined and being set to 0.0 in labels with no predicted samples. Use `zero_division` parameter to control this behavior.\n",
            "  _warn_prf(average, modifier, msg_start, len(result))\n"
          ]
        }
      ]
    }
  ]
}